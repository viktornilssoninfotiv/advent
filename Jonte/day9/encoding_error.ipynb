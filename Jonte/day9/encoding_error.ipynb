{
 "metadata": {
  "language_info": {
   "codemirror_mode": {
    "name": "ipython",
    "version": 3
   },
   "file_extension": ".py",
   "mimetype": "text/x-python",
   "name": "python",
   "nbconvert_exporter": "python",
   "pygments_lexer": "ipython3",
   "version": "3.6.8-final"
  },
  "orig_nbformat": 2,
  "kernelspec": {
   "name": "python3",
   "display_name": "Python 3"
  }
 },
 "nbformat": 4,
 "nbformat_minor": 2,
 "cells": [
  {
   "cell_type": "code",
   "execution_count": 4,
   "metadata": {},
   "outputs": [],
   "source": [
    "with open('data.txt') as f:\n",
    "    lines = f.readlines()\n",
    "    lines = [l.strip() for l in lines]"
   ]
  },
  {
   "cell_type": "code",
   "execution_count": 5,
   "metadata": {},
   "outputs": [],
   "source": [
    "def all_sums(i, n):\n",
    "    sums = []\n",
    "    for j in range(i - n, i):\n",
    "        for k in range(j+1, i):\n",
    "            sums.append(int(lines[j]) + int(lines[k]))\n",
    "    return sums"
   ]
  },
  {
   "cell_type": "code",
   "execution_count": 8,
   "metadata": {},
   "outputs": [
    {
     "output_type": "stream",
     "name": "stdout",
     "text": [
      "553 :  85848519\n"
     ]
    }
   ],
   "source": [
    "m = 25 \n",
    "\n",
    "for i in range(m, len(lines)):\n",
    "    if not int(lines[i]) in all_sums(i, m):\n",
    "        magic = lines[i]\n",
    "        print(i, ': ', magic)\n",
    "        break"
   ]
  },
  {
   "cell_type": "code",
   "execution_count": 20,
   "metadata": {},
   "outputs": [],
   "source": [
    "numbers = [int(l) for l in lines]\n",
    "\n",
    "def contiguous_sum(mynum):\n",
    "    i = 0\n",
    "    j = 0\n",
    "\n",
    "    total = -1\n",
    "    while True:\n",
    "        total = sum(numbers[i:j])\n",
    "\n",
    "        if total == mynum:\n",
    "            break\n",
    "        elif total > mynum:\n",
    "            i += 1\n",
    "        else:\n",
    "            j += 1\n",
    "\n",
    "    return (i, j, total)"
   ]
  },
  {
   "cell_type": "code",
   "execution_count": 27,
   "metadata": {},
   "outputs": [
    {
     "output_type": "stream",
     "name": "stdout",
     "text": [
      "13414198\n"
     ]
    }
   ],
   "source": [
    "i0, i1, total = contiguous_sum(int(magic))\n",
    "print(min(numbers[i0:i1]) + max(numbers[i0:i1]))"
   ]
  }
 ]
}